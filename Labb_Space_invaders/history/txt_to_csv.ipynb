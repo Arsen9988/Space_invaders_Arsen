{
 "cells": [
  {
   "cell_type": "code",
   "execution_count": 1,
   "metadata": {},
   "outputs": [],
   "source": [
    "import re\n",
    "import csv"
   ]
  },
  {
   "cell_type": "code",
   "execution_count": null,
   "metadata": {},
   "outputs": [],
   "source": [
    "with open('running_rewards.txt', 'r') as file:\n",
    "    data = file.readlines()\n",
    "\n",
    "resultat = []\n",
    "\n",
    "for rad in data:\n",
    "    match = re.search(r\"running reward: ([\\d.]+).*frame count (\\d+)\", rad)\n",
    "    if match:\n",
    "        running_reward =  round(float(match.group(1)))\n",
    "        frame_count = match.group(2)\n",
    "        resultat.append([running_reward, frame_count])  \n",
    "\n",
    "with open('frames.csv', 'w', newline='') as csvfile:\n",
    "    csvwriter = csv.writer(csvfile)\n",
    "    csvwriter.writerow([\"Running Reward\", \"Frame Count\"])\n",
    "    csvwriter.writerows(resultat)"
   ]
  },
  {
   "cell_type": "code",
   "execution_count": null,
   "metadata": {},
   "outputs": [],
   "source": [
    "with open('episod_logg.txt', 'r') as file:\n",
    "    data = file.readlines()\n",
    "resultat = []\n",
    "for rad in data:\n",
    "    match = re.search(r\"Episode (\\d+): ([\\d.]+)\", rad)\n",
    "    if match:\n",
    "        episode = match.group(1)  \n",
    "        score = match.group(2)    \n",
    "        resultat.append([episode, score])  \n",
    "\n",
    "with open('episodes.csv', 'w', newline='') as csvfile:\n",
    "    csvwriter = csv.writer(csvfile)\n",
    "    csvwriter.writerow([\"Episode\", \"Score\"])\n",
    "    csvwriter.writerows(resultat)"
   ]
  }
 ],
 "metadata": {
  "kernelspec": {
   "display_name": "Python 3",
   "language": "python",
   "name": "python3"
  },
  "language_info": {
   "codemirror_mode": {
    "name": "ipython",
    "version": 3
   },
   "file_extension": ".py",
   "mimetype": "text/x-python",
   "name": "python",
   "nbconvert_exporter": "python",
   "pygments_lexer": "ipython3",
   "version": "3.11.5"
  }
 },
 "nbformat": 4,
 "nbformat_minor": 2
}
